{
 "cells": [
  {
   "cell_type": "code",
   "execution_count": null,
   "id": "71e0671f",
   "metadata": {},
   "outputs": [],
   "source": [
    "import requests\n",
    "from bs4 import BeautifulSoup\n",
    "import sqlite3\n",
    "import time\n",
    "\n",
    "# Example URL (replace with real one)\n",
    "url = 'https://example.gov/new-llc-listings'\n",
    "\n",
    "# Fetch page\n",
    "headers = {'User-Agent': 'Mozilla/5.0'}\n",
    "response = requests.get(url, headers=headers)\n",
    "soup = BeautifulSoup(response.text, 'html.parser')\n",
    "\n",
    "# Parse listings\n",
    "listings = []\n",
    "for row in soup.select('table tr'):\n",
    "    cols = row.find_all('td')\n",
    "    if len(cols) >= 3:\n",
    "        listings.append({\n",
    "            'business_name': cols[0].text.strip(),\n",
    "            'filing_date': cols[1].text.strip(),\n",
    "            'location': cols[2].text.strip()\n",
    "        })\n",
    "\n",
    "# Save to SQLite DB\n",
    "conn = sqlite3.connect('llc_listings.db')\n",
    "cursor = conn.cursor()\n",
    "cursor.execute('''CREATE TABLE IF NOT EXISTS llcs (\n",
    "    id INTEGER PRIMARY KEY,\n",
    "    business_name TEXT,\n",
    "    filing_date TEXT,\n",
    "    location TEXT\n",
    ")''')\n",
    "\n",
    "for entry in listings:\n",
    "    cursor.execute('INSERT INTO llcs (business_name, filing_date, location) VALUES (?, ?, ?)',\n",
    "                   (entry['business_name'], entry['filing_date'], entry['location']))\n",
    "\n",
    "conn.commit()\n",
    "conn.close()\n"
   ]
  }
 ],
 "metadata": {
  "kernelspec": {
   "display_name": "Python 3 (ipykernel)",
   "language": "python",
   "name": "python3"
  },
  "language_info": {
   "codemirror_mode": {
    "name": "ipython",
    "version": 3
   },
   "file_extension": ".py",
   "mimetype": "text/x-python",
   "name": "python",
   "nbconvert_exporter": "python",
   "pygments_lexer": "ipython3",
   "version": "3.9.12"
  }
 },
 "nbformat": 4,
 "nbformat_minor": 5
}
